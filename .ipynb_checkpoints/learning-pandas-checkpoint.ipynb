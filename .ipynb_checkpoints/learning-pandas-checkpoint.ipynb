{
 "cells": [
  {
   "cell_type": "code",
   "execution_count": null,
   "id": "chemical-pattern",
   "metadata": {},
   "outputs": [],
   "source": [
    "daily_df = pd.read_csv(\"data/daily_report.csv\")\n",
    "temp = pd.read_csv(\"data/daily_report.csv\")\n",
    "# 쥬피터에 의해서 불려진 csv파일은 자동적으로 표가 된다. 이 표 안에서 내가 활용하고 싶은 데이터를 골라서 따로 표시가능한데\n",
    "# 그건 리스트의 형식과 동일하다. 단, 구분은 컬럼(열)으로 하며 [[...]] 이중 괄호를 사용하여 분리한다.\n",
    "# sum()함수를 사용하여 로우(행)의 합계를 낼수 있다.\n",
    "# 단, 이때에는 데이터 형식이 데이터 프레임에서 시리즈라는 형식으로 바뀌기 때문에, 다시 그 형식을 표로 바꿔줄 필요가 있다.l\n",
    "# 따라서 reset_index()를 이용하여 표로 전환해준다.\n",
    "# 이 과정에서 컬럼의 이름을 바꾸는 것도 가능하다. reset_index() 내부에 인수name의 밸류값으로 문자열을 지정하면 컬럼 명이 바뀐다.\n",
    "# 컬럼의 명을 바꾸는 명령어는 rename()이며 인수값으로 이름을 전달하면 컬럼 값을 바꿀수 있다. \n",
    "totals_df = daily_df[[\"Country_Region\",\"Confirmed\", \"Deaths\", \"Recovered\"]]\n",
    "group_df = totals_df.groupby(\"Country_Region\")\n",
    "group_df.sum().reset_index()\n",
    "# series와 dataframe의 차이점은 뭐지??"
   ]
  },
  {
   "cell_type": "code",
   "execution_count": 8,
   "id": "continent-quilt",
   "metadata": {},
   "outputs": [],
   "source": [
    "import pandas as pd\n",
    "# 판다스는 주로 csv를 컨트롤 하게 해준다.l\n",
    "# 만다스를 임포트 하여서 csv형식의 데이터 파일을 읽어들인다."
   ]
  },
  {
   "cell_type": "code",
   "execution_count": 16,
   "id": "suspended-chicken",
   "metadata": {},
   "outputs": [
    {
     "data": {
      "text/html": [
       "<div>\n",
       "<style scoped>\n",
       "    .dataframe tbody tr th:only-of-type {\n",
       "        vertical-align: middle;\n",
       "    }\n",
       "\n",
       "    .dataframe tbody tr th {\n",
       "        vertical-align: top;\n",
       "    }\n",
       "\n",
       "    .dataframe thead th {\n",
       "        text-align: right;\n",
       "    }\n",
       "</style>\n",
       "<table border=\"1\" class=\"dataframe\">\n",
       "  <thead>\n",
       "    <tr style=\"text-align: right;\">\n",
       "      <th></th>\n",
       "      <th>Date</th>\n",
       "      <th>confirmed</th>\n",
       "      <th>deaths</th>\n",
       "      <th>recovered</th>\n",
       "    </tr>\n",
       "  </thead>\n",
       "  <tbody>\n",
       "    <tr>\n",
       "      <th>0</th>\n",
       "      <td>1/22/20</td>\n",
       "      <td>557</td>\n",
       "      <td>17</td>\n",
       "      <td>30</td>\n",
       "    </tr>\n",
       "    <tr>\n",
       "      <th>1</th>\n",
       "      <td>1/23/20</td>\n",
       "      <td>655</td>\n",
       "      <td>18</td>\n",
       "      <td>32</td>\n",
       "    </tr>\n",
       "    <tr>\n",
       "      <th>2</th>\n",
       "      <td>1/24/20</td>\n",
       "      <td>941</td>\n",
       "      <td>26</td>\n",
       "      <td>39</td>\n",
       "    </tr>\n",
       "    <tr>\n",
       "      <th>3</th>\n",
       "      <td>1/25/20</td>\n",
       "      <td>1433</td>\n",
       "      <td>42</td>\n",
       "      <td>42</td>\n",
       "    </tr>\n",
       "    <tr>\n",
       "      <th>4</th>\n",
       "      <td>1/26/20</td>\n",
       "      <td>2118</td>\n",
       "      <td>56</td>\n",
       "      <td>56</td>\n",
       "    </tr>\n",
       "  </tbody>\n",
       "</table>\n",
       "</div>"
      ],
      "text/plain": [
       "      Date  confirmed  deaths  recovered\n",
       "0  1/22/20        557      17         30\n",
       "1  1/23/20        655      18         32\n",
       "2  1/24/20        941      26         39\n",
       "3  1/25/20       1433      42         42\n",
       "4  1/26/20       2118      56         56"
      ]
     },
     "execution_count": 16,
     "metadata": {},
     "output_type": "execute_result"
    }
   ],
   "source": [
    "\n",
    "conditions = [\"confirmed\", \"deaths\", \"recovered\"]\n",
    "\n",
    "def make_global_df(condition):\n",
    "    df = pd.read_csv(f\"data/time_{condition}.csv\")\n",
    "    df = df.drop(['Province/State', 'Country/Region', 'Lat', 'Long'], axis=1).sum().reset_index(name=condition)\n",
    "    df = df.rename(columns={\"index\":\"Date\"})\n",
    "    return df\n",
    "\n",
    "def make_global_total_df(conditions):\n",
    "    final_df = None\n",
    "    for condition in conditions:\n",
    "        condition_df = make_global_df(condition)\n",
    "       # result = pd.concat([result, condition_df], axis=1, join=\"outer\")\n",
    "        if final_df is None:\n",
    "            final_df = condition_df\n",
    "        else:\n",
    "           # result = pd.concat([result, condition_df], ignore_index=True, sort=False)\n",
    "            final_df = final_df.merge(condition_df)\n",
    "    return final_df\n",
    "\n",
    "global_total_df = make_global_total_df(conditions)\n",
    "global_total_df.head()"
   ]
  }
 ],
 "metadata": {
  "kernelspec": {
   "display_name": "Python 3",
   "language": "python",
   "name": "python3"
  },
  "language_info": {
   "codemirror_mode": {
    "name": "ipython",
    "version": 3
   },
   "file_extension": ".py",
   "mimetype": "text/x-python",
   "name": "python",
   "nbconvert_exporter": "python",
   "pygments_lexer": "ipython3",
   "version": "3.8.5"
  }
 },
 "nbformat": 4,
 "nbformat_minor": 5
}
